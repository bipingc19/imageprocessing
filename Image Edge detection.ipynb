{
 "cells": [
  {
   "cell_type": "code",
   "execution_count": 1,
   "metadata": {},
   "outputs": [],
   "source": [
    "import pandas as pd \n",
    "import numpy as np\n",
    "import cv2 as cv2\n",
    "from PIL import Image\n",
    "import glob\n",
    "import os"
   ]
  },
  {
   "cell_type": "code",
   "execution_count": 2,
   "metadata": {},
   "outputs": [],
   "source": [
    "img = cv2.imread(r\"C:\\Users\\bipin\\phots_saturn\\original\\N1564710299_1_full.png\", cv2.IMREAD_COLOR)\n",
    "cv2.imshow(\"trail\", img)\n",
    "cv2.waitKey(0)\n",
    "cv2.destroyAllWindows()"
   ]
  },
  {
   "cell_type": "markdown",
   "metadata": {},
   "source": [
    "# Checking if the path works"
   ]
  },
  {
   "cell_type": "code",
   "execution_count": 3,
   "metadata": {},
   "outputs": [],
   "source": [
    "path = r\"C:\\Users\\bipin\\phots_saturn\\original\\*.*png\"\n",
    "for file in glob.glob(path):\n",
    "    a= cv2.imread(file)\n",
    "    cv2.imshow(\"trail\", a)\n",
    "    cv2.waitKey(0)\n",
    "    cv2.destroyAllWindows()"
   ]
  },
  {
   "cell_type": "markdown",
   "metadata": {},
   "source": [
    "# Checking Guassian works"
   ]
  },
  {
   "cell_type": "code",
   "execution_count": 5,
   "metadata": {},
   "outputs": [],
   "source": [
    "Gaussian = cv2.GaussianBlur(img,(5,5),0)\n",
    "cv2.imshow(\"check check\", img)\n",
    "cv2.waitKey(0)\n",
    "cv2.destroyAllWindows()"
   ]
  },
  {
   "cell_type": "markdown",
   "metadata": {},
   "source": [
    "# Path destination"
   ]
  },
  {
   "cell_type": "code",
   "execution_count": 7,
   "metadata": {},
   "outputs": [],
   "source": [
    "path_destination = r\"C:\\Users\\bipin\\phots_saturn\\image_edges\""
   ]
  },
  {
   "cell_type": "markdown",
   "metadata": {},
   "source": [
    "# Trail"
   ]
  },
  {
   "cell_type": "code",
   "execution_count": 8,
   "metadata": {},
   "outputs": [
    {
     "data": {
      "text/plain": [
       "True"
      ]
     },
     "execution_count": 8,
     "metadata": {},
     "output_type": "execute_result"
    }
   ],
   "source": [
    "Gaussian = cv2.GaussianBlur(img,(5,5),0)\n",
    "cv2.imwrite(os.path.join(path_destination,'%s_traill.jpeg'%(1)),Gaussian)"
   ]
  },
  {
   "cell_type": "markdown",
   "metadata": {},
   "source": [
    "# Kernel defining"
   ]
  },
  {
   "cell_type": "code",
   "execution_count": 9,
   "metadata": {},
   "outputs": [],
   "source": [
    "kernel = np.ones((5,5),np.uint8)"
   ]
  },
  {
   "cell_type": "markdown",
   "metadata": {},
   "source": [
    "# Final Operation"
   ]
  },
  {
   "cell_type": "code",
   "execution_count": 11,
   "metadata": {},
   "outputs": [],
   "source": [
    "n = 1\n",
    "for file in glob.glob(path):\n",
    "    img =cv2.imread(file)\n",
    "    #Gaussian_Blur\n",
    "    Gaussian = cv2.GaussianBlur(img,(5,5),0)\n",
    "    #openVsclose\n",
    "    openVsClose = cv2.morphologyEx(img, cv2.MORPH_GRADIENT, kernel)\n",
    "    #Laplacian\n",
    "    laplacian = cv2.Laplacian(img,cv2.CV_64F)\n",
    "    #SobelX\n",
    "    sobelx = cv2.Sobel(img,cv2.CV_64F,1,0,ksize=1)\n",
    "    #Sobely\n",
    "    sobely = cv2.Sobel(img,cv2.CV_64F,0,1,ksize=1)\n",
    "    #Cannysaving \n",
    "    canny = cv2.Canny(img,5,20)\n",
    "    #saving\n",
    "    cv2.imwrite(os.path.join(path_destination,'%Gaussian.jpeg'%(n)),Gaussian)\n",
    "    cv2.imwrite(os.path.join(path_destination,'%sopenVsClose.jpeg'%(n)),openVsClose)\n",
    "    cv2.imwrite(os.path.join(path_destination,'%slaplacian.jpeg'%(n)),laplacian)\n",
    "    cv2.imwrite(os.path.join(path_destination,'%ssobelx.jpeg'%(n)),sobelx)\n",
    "    cv2.imwrite(os.path.join(path_destination,'%ssobely.jpeg'%(n)),sobely)\n",
    "    cv2.imwrite(os.path.join(path_destination,'%scanny.jpeg'%(n)), canny)\n",
    "    n=n+1"
   ]
  },
  {
   "cell_type": "code",
   "execution_count": null,
   "metadata": {},
   "outputs": [],
   "source": []
  }
 ],
 "metadata": {
  "kernelspec": {
   "display_name": "Python 3",
   "language": "python",
   "name": "python3"
  },
  "language_info": {
   "codemirror_mode": {
    "name": "ipython",
    "version": 3
   },
   "file_extension": ".py",
   "mimetype": "text/x-python",
   "name": "python",
   "nbconvert_exporter": "python",
   "pygments_lexer": "ipython3",
   "version": "3.8.5"
  }
 },
 "nbformat": 4,
 "nbformat_minor": 4
}
